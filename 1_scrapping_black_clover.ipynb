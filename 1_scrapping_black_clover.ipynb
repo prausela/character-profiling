{
 "cells": [
  {
   "cell_type": "code",
   "execution_count": 50,
   "metadata": {},
   "outputs": [],
   "source": [
    "from bs4 import BeautifulSoup\n",
    "import requests"
   ]
  },
  {
   "cell_type": "code",
   "execution_count": 51,
   "metadata": {},
   "outputs": [],
   "source": [
    "def getPageSoup(page):\n",
    "    r       = requests.get(page.replace(\"\\n\", \"\"))\n",
    "    soup    = BeautifulSoup(r.content, \"html.parser\")\n",
    "    return soup"
   ]
  },
  {
   "cell_type": "code",
   "execution_count": 52,
   "metadata": {},
   "outputs": [],
   "source": [
    "def getEpSoup(ep_number):\n",
    "    bc_wiki             = \"https://blackclover.fandom.com/wiki/\"\n",
    "    bc_wiki_ep_endpoint = bc_wiki + \"Episode_\" + str(ep_number)\n",
    "    return getPageSoup(bc_wiki_ep_endpoint)"
   ]
  },
  {
   "cell_type": "code",
   "execution_count": 53,
   "metadata": {},
   "outputs": [],
   "source": [
    "def recoverSummaryFromSoup(ep_summary_soup, allowed_tags=None):\n",
    "    ep_summary = \"\"\n",
    "    for element in ep_summary_soup:\n",
    "        ep_summary += element.getText()\n",
    "    return ep_summary"
   ]
  },
  {
   "cell_type": "code",
   "execution_count": 54,
   "metadata": {},
   "outputs": [],
   "source": [
    "def process_text(element, tag_count):\n",
    "    return element\n",
    "\n",
    "def process_p(element, tag_count):\n",
    "    text = \"\"\n",
    "    for child in element.children:\n",
    "        text += process_element(child, tag_count)\n",
    "    return text\n",
    "\n",
    "def process_a(element, tag_count):\n",
    "    text = \"\"\n",
    "    for child in element.children:\n",
    "        text += process_element(child, tag_count)\n",
    "    return text\n",
    "\n",
    "def process_sup(element, tag_count):\n",
    "    return \"\"\n",
    "\n",
    "def process_br(element, tag_count):\n",
    "    return \"\"\n",
    "\n",
    "def process_i(element, tag_count):\n",
    "    text = \"\"\n",
    "    for child in element.children:\n",
    "        text += process_element(child, tag_count)\n",
    "    return text\n",
    "\n",
    "def default_process(element, tag_count):\n",
    "    return str(element)"
   ]
  },
  {
   "cell_type": "code",
   "execution_count": 55,
   "metadata": {},
   "outputs": [],
   "source": [
    "tag_processors = {\n",
    "    None    : process_text,\n",
    "    \"p\"     : process_p,\n",
    "    \"a\"     : process_a,\n",
    "    \"sup\"   : process_sup,\n",
    "    \"br\"    : process_br,\n",
    "    \"i\"     : process_i\n",
    "}\n",
    "\n",
    "def update_tag_count(tag_name, tag_count):\n",
    "    if(tag_name in tag_count):\n",
    "        tag_count[tag_name] += 1\n",
    "    else:\n",
    "        tag_count[tag_name] = 1\n",
    "\n",
    "def process_element(element, tag_count):\n",
    "    \n",
    "    update_tag_count(element.name, tag_count)\n",
    "\n",
    "    if(element.name in tag_processors):\n",
    "        return tag_processors[element.name](element, tag_count)\n",
    "    return default_process(element, tag_count)"
   ]
  },
  {
   "cell_type": "code",
   "execution_count": 56,
   "metadata": {},
   "outputs": [],
   "source": [
    "def getEpSummary(ep_number, soup_tag_count=dict()):\n",
    "    ep_soup                 = getEpSoup(ep_number)\n",
    "    ep_summary_title_soup   = ep_soup.select(\"#Summary\").pop().parent\n",
    "    ep_summary_soup_elem    = ep_summary_title_soup.find_next_sibling()\n",
    "    ep_summary = \"\"\n",
    "    while(ep_summary_soup_elem.name != 'h2'):\n",
    "        ep_summary += process_element(ep_summary_soup_elem, soup_tag_count)\n",
    "        ep_summary_soup_elem = ep_summary_soup_elem.find_next_sibling()\n",
    "    return (ep_summary, soup_tag_count)"
   ]
  },
  {
   "cell_type": "code",
   "execution_count": 57,
   "metadata": {},
   "outputs": [],
   "source": [
    "def getEpsSummary(start_ep, end_ep):\n",
    "    soup_tag_count = dict()\n",
    "    eps_summary = []\n",
    "    for ep_number in range(start_ep, end_ep+1):\n",
    "        ep_summary, _ = getEpSummary(ep_number, soup_tag_count)\n",
    "        eps_summary.append(ep_summary)\n",
    "    return eps_summary, soup_tag_count"
   ]
  },
  {
   "cell_type": "code",
   "execution_count": 58,
   "metadata": {},
   "outputs": [
    {
     "name": "stdout",
     "output_type": "stream",
     "text": [
      "In Hage, a priest finds two babies abandoned outside his church. He takes them inside and discovers their names to be Yuno and Asta.\n",
      "Fifteen years later, Asta proposes to Sister Lily, who refuses repeatedly. Yuno and the other orphans criticize Asta and point out his lack of magic. Asta tries to show off his skills, but Yuno outshines him with his magic.\n",
      "Later, at the Grimoire Acceptance Ceremony, a pair of nobles criticize the commoners there. Despite Asta not receiving a grimoire while Yuno attains a four-leaf clover one, Asta challenges Yuno to the title of Magic Emperor, but Yuno ignores him.\n",
      "After the ceremony, the two nobles ambush Yuno outside the tower, but Yuno overpowers them. All three are then ambushed by Revchi Salik, a former Magic Knight who plans to steal Yuno's grimoire and sell it. Asta comes to Yuno's rescue but fails.\n",
      "As Revchi breaks Asta's spirit, Yuno calls Asta his rival. Motivated by this acknowledgment, Asta decides to keep fighting, which summons a grimoire from the tower. Revchi notices that it has a five-leaf clover, and when a large sword appears from the grimoire, Asta grabs it and the shadow of a devil appears behind him.\n",
      "\n",
      "{'p': 5, None: 29, 'a': 10, 'sup': 4}\n"
     ]
    }
   ],
   "source": [
    "ep_summary, soup_tag_count = getEpSummary(1)\n",
    "print(ep_summary)\n",
    "print(soup_tag_count)"
   ]
  },
  {
   "cell_type": "code",
   "execution_count": 59,
   "metadata": {},
   "outputs": [
    {
     "name": "stdout",
     "output_type": "stream",
     "text": [
      "Noelle Silva wonders where Asta went after she blew him away with her Water Magic. Looking around, she sees a place with highly concentrated mana and sees Asta helping Yami Sukehiro sell his grilled squid, while Sekke Bronzazza and his friends Aphro and Phati help Jack the Ripper sell his meat dishes. Yami and Jack threaten Asta and Sekke to sell some food, but as no customers stop, Sekke complains its understandable considering how scary both captains are. Noelle asks Asta and Sekke what they are doing and both of them explain how Jack and Yami wanted to settle their score and decided a competition on which food stall will sell more and then Asta and Sekke were dragged into it.\n",
      "Asta sees a purple snake food stall and gets interested, however, Yami stops him and tells him how good his squids are. Yami and Jack blame Asta and Sekke for not selling anything and decide to settle it with their abilities. They start playing Dear or Alive, trying to make the person looking at the direction they point, then arm wrestling and thumb war. But as they end up in draws, they decide to actually fight. Since it will cause trouble, Yami tells Noelle to call Finral Roulacase and he transports them elsewhere. Secretly the Magic Knights disguised as an old woman follows them, excited to observe their fight and magic.\n",
      "Yami and Jack start fighting and soon Yami decides to use his new technique that he developed and defeated Vetto. Seeing that, Asta and Noelle worry of what may happen and Noelle tells Finral to stop the fight and states it will be his fault if one of them gets injured, which will weaken the Clover Kingdom and Eye of the Midnight Sun or Diamond Kingdom may attack. Finral attempts to stop Yami, but ends up being kicked away. As Yami and Jack are about to unleash their magic, Julius Novachrono reveals himself and uses Chrono Stasis on everyone. Julius reveals that he would have loved to see Yami's new magic, but agrees with Asta that if one of them gets injured, it will put them to disadvantage against their enemies. Marx Francois contacts Julius and tells him to stop fooling around and come back as its time for the meeting concerning how many starts each squad earned. Before going back, Julius decides to make sure that Yami and Jack would not continue fighting and he unzips their pants. He leaves and releases the Chrono Stasis, leaving them wondering what happened. Yami and Jack find their pants being down funny and decide to stop fighting.\n",
      "They return to their stalls, where Yami tastes Jack's food and Jack taste Yami's food. After liking each other's foods, Jack prepares a dessert for them. Yami agrees to call it a draw, and states he had 53 wins, 0 loses and 34 draws. Jack immediately disagrees, stating he has 98 wins, 0 loses and 1 draw. Yami then exaggerates with more wins and then Jack. As they started to argue again, they decide its time to settle their score with each other and prepare to fight again. Sekke and Asta try to stop the fight, but they only get thrown away.\n",
      "After landing elsewhere, Asta hears people talking about an attractive woman. He checks her out and agrees she is beautiful, but wonders from where he knows her.\n",
      "\n",
      "{'p': 10, None: 68, 'a': 27, 'sup': 5}\n"
     ]
    }
   ],
   "source": [
    "ep_summary, soup_tag_count = getEpSummary(68)\n",
    "print(ep_summary)\n",
    "print(soup_tag_count)"
   ]
  },
  {
   "cell_type": "code",
   "execution_count": 60,
   "metadata": {},
   "outputs": [
    {
     "name": "stdout",
     "output_type": "stream",
     "text": [
      "Yuno Grinberryall recollects his memories with the Golden Dawn squad and how considerate and friendly they had become. In the present, Gaderois Godroc tells Yuno that he has killed half of his comrades and left others barely alive. Gaderois also adds that they should be honored of being beaten by someone strong like him. Yuno uses Spirit Storm but Gaderois blocks and destroys the spell. Gaderois feels excited to face a Spirit Magic user, but also warns Yuno that his Stone Magic has been enhanced with devil power and counterattacks Yuno. Using Spirit's Hushed Dance, Yuno evades Gaderois attacks and also saves his injured comrades. Gaderois feels lucky to meet a Stage Zero mage other than the Magic Knights Captain. Gaderois introduces himself and asks for Yuno's name, but Yuno refuses to give his name and attacks with Crescent Kamaitachi. \n",
      "As the fight progress, Yuno asks Gaderois for his reason to fight, to which Gaderois replies that the Dark Triad has come here for the Stage Zero mage but he has just come to use his magic. Gaderois praises the strength of the Dark Triad and also criticizes the former Spade King. Upset by these remarks, Yuno asks what Gaderois feels when he kills people. Gaderois responds with a devilish smile that the destruction and fights he is involved with are all thrilling and exciting to him, and accuses Yuno of being the same as he is also strong. Enraged, Yuno attacks Gaderois with Spirit of Zephyr. Though Gaderois is able to block the spell, the wind accelerates and erodes his stone armor, enabling Yuno to cut through his stone armor. Yuno declares to himself that regardless of his status as a Magic Knight of the Clover Kingdom or a Prince of the Spade Kingdom, he will stop the people who have warped the world and break the chain of curses.\n",
      "In the courtyard of the Golden Dawn base, Klaus Lunettes and two others Magic Knights are surrounded by mist. Klaus feels unsure about the enemy's location. Foyal Migusteau appears in front of him and compliments his magic. Klaus uses Blazing Spiral Lance to attack Foyal but it was a mist clone. Foyal bombards the Knights with condensed water bullets and defeats them while boasting about him being a Stage Zero Mage. In another part of the courtyard, Letoile Becquerel takes shelter in her Another Atlas spell, and thinks about how she has to do something or they will all be annihilated. Letoile feels useless as she is unable to locate the enemy's real body, and also remembers William Vangeance saying that they should use the remnant elves' power to protect their kingdom. Foyal asks the battered Klaus to surrender, Klaus rises back up and refuses to give up until his will has been broken. Foyal decides to finish off Klaus but suddenly his mists are  blown away by Yuno's Wind Magic. Foyal finds Yuno to be his natural enemy and restrains him with Sealing Spectral Hands before he can attack again. Using the opportunity, Letoile encloses the real Foyal in Another Atlas, and Klaus delivers the final blow. Klaus, Leotile and Yuno have a short reunion, but it is interrupted as the ceiling crashes from Zenon Zogratis and William's fight.\n",
      "As the three of them see that the captain has been defeated, Klaus wonders just who or what Zenon is. Yuno remembers Zenon's face from the memories that Ralph Niaflem showed him. Zenon notes that Gaderois and Foyal failed and that there is no point in bringing along anyone who is not over 50%. Terrified by Zenon, Sylph tells Yuno to activate his Spirit Dive spell. Zenon attacks with Eternal Fangs, which overpowers Klaus and Leotile but Yuno cuts through the bones. Yuno looks back to find his comrades skewered. Enraged by the sight, Yuno charges at Zenon but his Spirit of Zephyr cannot cut through the bones due to Zenon's incredible regeneration. Noticing that Yuno is a Stage Zero mage, Zenon reveals 55% of his devil's power showing the devil behind him. Zenon comments that Yuno is not weak but he is just far stronger and destroys his Spirit of Zephyr with his bone sword. Zenon defeats Yuno while saying it is for the benefit of the Spade Kingdom.\n",
      "Later, Ralph manages to reach the Golden Dawn base and notices that the building has been destroyed. He enters and sees Yuno's grimoire laying on the ground. Ralph is shocked to see Sylph crying and a sword piercing Yuno's abdomen. Ralph reaches out to Yuno and the Sylph starts to fade. Both of them refuse to let Yuno die. Suddenly a surge of mana appears and a tree starts to grow, much to Ralph's confusion. Sylph realizes that this is William's World Tree Magic. The Budding of Yggdrasil spell heals all who are wounded, and as the Knights wake up, they note how William helped despite being badly wounded. As the Knights check around, they discover that only the people on verge of death were saved and that half the Golden Dawn are dead. Yuno thinks about how if only he was stronger and yells out.\n",
      "\n",
      "{'p': 15, None: 144, 'a': 61, 'sup': 9}\n"
     ]
    }
   ],
   "source": [
    "ep_summary, soup_tag_count = getEpSummary(161)\n",
    "print(ep_summary)\n",
    "print(soup_tag_count)"
   ]
  },
  {
   "cell_type": "code",
   "execution_count": 61,
   "metadata": {},
   "outputs": [
    {
     "data": {
      "text/plain": [
       "(\"Asta, Finral Roulacase, Noelle Silva, and Vanessa Enoteca have Fana surrounded. Above, Fanzell Kruger and Mars lead Ladros towards Asta but realize that he may have his hands full with Fana. Fanzell and Mars fly overhead just as the Salamander sends a fireball towards Asta. Fanzell tells Asta to deflect towards him. Asta does so and Fanzell aims the fireball towards Ladros. It engulfs him and he burns up before falling towards the forest. Fanzell and Mars land in front of Asta. Asta asks Fanzell why he is with Mars since he is the enemy. Fanzell says he will explain everything later but for now he asks Asta to trust Mars. Asta reluctantly agrees. They turn towards Fana and Mars realizes that her flames are similar to his. He gasps as he recognizes Fana.\\nMars remembers when he was a child and how Fana used to cheer him up after tough training sessions. He also remembers how he and the other children were told to kill each other and that the winner would be the kingdom's mage warrior. Fana tried to kill him but Mars struck first. After, he was mourning when Fana reaches up and heals him. She told him to go see the world outside before she died. In the present, Mars yells out Fana's name and tries to go to her but is stopped by Asta. Fanzell recognizes her as well but says that he had heard she had died after having been experimented on by Moris. He wonders about the third eye she has on her forehead and believes that the Eye of the Midnight Sun is controlling her through it. Fana floats in the air and tells everyone that she hates them before she calls upon self-destruct magic.\\nFana sends multiple blasts towards them. Asta deflects some, Noelle creates a water barrier, but Mars lets the blasts hit him. Fanzell tells him to block it with his magic but Mars says that he has no right to because he killed Fana. Asta hits him and tells him that now is not the time for that. He tells Mars that if Fana is so important to him that now is not the time for him to die. He tells him to live so that he can save her. Fanzell has faith that Mars will be able to save her. Vanessa believes that her Thread Magic and Finral's Spatial Magic are no match for Fana. Noelle concludes that Asta needs to be the one to stop her.\\nAsta and Mars rush forward together. When they get closer, the heat from Fana's magic burns them, so Mars cloaks them in Phoenix Feathers Robe. As Asta walks forward, Mars is amazed by him. He has fought many other mages but he has never met anyone as stubborn as Asta. He believes that Asta is a true knight because he is always trying to protect people. Asta notices that Mars is not the same as when he fought him. Fanzell tells the others that they should evacuate because Fana could blow at any minute. Vanessa, Noelle, and Finral refuse to leave their friend behind. Fana tells them that it is over but Asta cuts through her magic with his sword.\\nAsta thinks that it is over but Fana says it is not. Asta turns to face her but Mars runs past him and pulls Fana into a hug. Memories flash before Fana's eyes. Mars tells her that they must see the outside world together. The fire surrounding them surges but then disappears completely. Mars pulls back and Fana tells him that she promises to see the world with him. They embrace as Mars cries. Everyone else is relieved that it is over.\\n\",\n",
       " {'p': 20, None: 182, 'a': 75, 'sup': 15})"
      ]
     },
     "execution_count": 61,
     "metadata": {},
     "output_type": "execute_result"
    }
   ],
   "source": [
    "getEpSummary(61)"
   ]
  },
  {
   "cell_type": "code",
   "execution_count": 62,
   "metadata": {},
   "outputs": [
    {
     "name": "stdout",
     "output_type": "stream",
     "text": [
      "{'p': 708, None: 6321, 'a': 2772, 'sup': 148, 'br': 48, 'i': 2}\n"
     ]
    }
   ],
   "source": [
    "eps_summary, soup_tag_count = getEpsSummary(1, 161)\n",
    "print(soup_tag_count)"
   ]
  },
  {
   "cell_type": "code",
   "execution_count": 63,
   "metadata": {},
   "outputs": [],
   "source": [
    "import matplotlib.pyplot as plt"
   ]
  },
  {
   "cell_type": "code",
   "execution_count": 64,
   "metadata": {},
   "outputs": [
    {
     "data": {
      "text/plain": [
       "([<matplotlib.axis.XTick at 0x7f06e6545c60>,\n",
       "  <matplotlib.axis.XTick at 0x7f06e6544220>,\n",
       "  <matplotlib.axis.XTick at 0x7f06e64b2ce0>,\n",
       "  <matplotlib.axis.XTick at 0x7f06e64d6770>,\n",
       "  <matplotlib.axis.XTick at 0x7f06e64d4280>,\n",
       "  <matplotlib.axis.XTick at 0x7f06e64d5240>],\n",
       " [Text(0, 0, 'p'),\n",
       "  Text(1, 0, ''),\n",
       "  Text(2, 0, 'a'),\n",
       "  Text(3, 0, 'sup'),\n",
       "  Text(4, 0, 'br'),\n",
       "  Text(5, 0, 'i')])"
      ]
     },
     "execution_count": 64,
     "metadata": {},
     "output_type": "execute_result"
    },
    {
     "data": {
      "image/png": "[encoded data removed]",
      "text/plain": [
       "<Figure size 432x288 with 1 Axes>"
      ]
     },
     "metadata": {
      "needs_background": "light"
     },
     "output_type": "display_data"
    }
   ],
   "source": [
    "plots = plt.bar(range(len(soup_tag_count)), list(soup_tag_count.values()), data=list(soup_tag_count.values()), align='center')\n",
    "\n",
    "for bar in plots.patches:\n",
    "    plt.annotate(format(bar.get_height(), '.2f'),\n",
    "                   (bar.get_x() + bar.get_width() / 2,\n",
    "                    bar.get_height()), ha='center', va='center',\n",
    "                   size=15, xytext=(0, 8),\n",
    "                   textcoords='offset points')\n",
    "\n",
    "plt.xticks(range(len(soup_tag_count)), list(soup_tag_count.keys()))"
   ]
  },
  {
   "cell_type": "code",
   "execution_count": 65,
   "metadata": {},
   "outputs": [
    {
     "data": {
      "text/plain": [
       "(0.0, 50000.0)"
      ]
     },
     "execution_count": 65,
     "metadata": {},
     "output_type": "execute_result"
    },
    {
     "data": {
      "image/png": "[encoded data removed]",
      "text/plain": [
       "<Figure size 432x288 with 1 Axes>"
      ]
     },
     "metadata": {
      "needs_background": "light"
     },
     "output_type": "display_data"
    }
   ],
   "source": [
    "plots = plt.bar(range(len(soup_tag_count)), list(soup_tag_count.values()), data=list(soup_tag_count.values()), align='center')\n",
    "\n",
    "for bar in plots.patches:\n",
    "    plt.annotate(format(bar.get_height(), '.2f'),\n",
    "                   (bar.get_x() + bar.get_width() / 2,\n",
    "                    bar.get_height()), ha='center', va='center',\n",
    "                   size=15, xytext=(0, 8),\n",
    "                   textcoords='offset points')\n",
    "\n",
    "plt.xticks(range(len(soup_tag_count)), list(soup_tag_count.keys()))\n",
    "plt.ylim((0, 50000))"
   ]
  },
  {
   "cell_type": "code",
   "execution_count": 66,
   "metadata": {},
   "outputs": [],
   "source": [
    "import json\n",
    "\n",
    "json_object = json.dumps(eps_summary)\n",
    "\n",
    "with open(\"1_scrapping_black_clover.json\", \"w\") as outfile:\n",
    "    outfile.write(json_object)"
   ]
  }
 ],
 "metadata": {
  "kernelspec": {
   "display_name": "Python 3.10.4 64-bit",
   "language": "python",
   "name": "python3"
  },
  "language_info": {
   "codemirror_mode": {
    "name": "ipython",
    "version": 3
   },
   "file_extension": ".py",
   "mimetype": "text/x-python",
   "name": "python",
   "nbconvert_exporter": "python",
   "pygments_lexer": "ipython3",
   "version": "3.10.4"
  },
  "orig_nbformat": 4,
  "vscode": {
   "interpreter": {
    "hash": "e7370f93d1d0cde622a1f8e1c04877d8463912d04d973331ad4851f04de6915a"
   }
  }
 },
 "nbformat": 4,
 "nbformat_minor": 2
}
